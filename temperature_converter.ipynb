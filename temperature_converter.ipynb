{
 "cells": [
  {
   "cell_type": "markdown",
   "id": "99f7a1c4",
   "metadata": {},
   "source": [
    "## To convert celcius to farenheight and vice e versa\n",
    "for F-C= temp*9/5 +32 is used\n",
    "for C-F = (temp-32)%/9 is used  \n"
   ]
  },
  {
   "cell_type": "code",
   "execution_count": 8,
   "id": "b6414c51",
   "metadata": {},
   "outputs": [
    {
     "name": "stdout",
     "output_type": "stream",
     "text": [
      "The converted temperature is: 131.36 degrees F\n"
     ]
    }
   ],
   "source": [
    "def tempConv(temp,unit):\n",
    "    \"\"\"Converts temperature between Celsius and Fahrenheit.\"\"\"\n",
    "    if unit==\"C\":\n",
    "        #convert celsius to fahrenheit\n",
    "        return (temp*9/5)+32\n",
    "    elif unit==\"F\":\n",
    "        return (temp-32)*5/9\n",
    "    else:\n",
    "        print(\"invalid input\")\n",
    "        \n",
    "\n",
    "temp=float(input(\"enter the temperature:\"))\n",
    "unit=input(\"enter the unit (C/F):\").upper()\n",
    "converted_temp = tempConv(temp, unit)\n",
    "print(f\"The converted temperature is: {converted_temp} degrees {'F' if unit == 'C' else 'C'}\")\n"
   ]
  }
 ],
 "metadata": {
  "kernelspec": {
   "display_name": "Python 3",
   "language": "python",
   "name": "python3"
  },
  "language_info": {
   "codemirror_mode": {
    "name": "ipython",
    "version": 3
   },
   "file_extension": ".py",
   "mimetype": "text/x-python",
   "name": "python",
   "nbconvert_exporter": "python",
   "pygments_lexer": "ipython3",
   "version": "3.12.0"
  }
 },
 "nbformat": 4,
 "nbformat_minor": 5
}
